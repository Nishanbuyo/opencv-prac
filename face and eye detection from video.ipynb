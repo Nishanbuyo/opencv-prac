{
 "cells": [
  {
   "cell_type": "code",
   "execution_count": 1,
   "metadata": {},
   "outputs": [],
   "source": [
    "import cv2 as cv\n",
    "import numpy as np"
   ]
  },
  {
   "cell_type": "code",
   "execution_count": 2,
   "metadata": {},
   "outputs": [],
   "source": [
    "face_classifier= cv.CascadeClassifier('haarcascades/haarcascade_frontalface_default.xml')\n",
    "eye_classifier= cv.CascadeClassifier('haarcascades/haarcascade_eye.xml')"
   ]
  },
  {
   "cell_type": "code",
   "execution_count": 3,
   "metadata": {},
   "outputs": [],
   "source": [
    "def detect(gray, frame):\n",
    "    faces=face_classifier.detectMultiScale(gray, 1.3, 5)\n",
    "    for (x,y, w,h) in faces:\n",
    "        cv.rectangle(frame, (x,y), (x+w, y+h), (255,0,0), 2)\n",
    "        roi_gray = gray[y:y+h, x:x+w]\n",
    "        roi_color = frame[y:y+h, x:x+w]\n",
    "        eyes= eye_classifier.detectMultiScale(roi_gray, 1.1, 3)\n",
    "        for (ex, ey, ew, eh) in eyes:\n",
    "            cv.rectangle(roi_color, (ex, ey), (ex+ew, ey+eh), (0, 255, 0), 2)\n",
    "    return frame"
   ]
  },
  {
   "cell_type": "code",
   "execution_count": 4,
   "metadata": {},
   "outputs": [],
   "source": [
    "# url= \"http://192.168.1.2:8080/video\""
   ]
  },
  {
   "cell_type": "code",
   "execution_count": 5,
   "metadata": {},
   "outputs": [],
   "source": [
    "video_capture= cv.VideoCapture(0)\n",
    "fourcc = cv.VideoWriter_fourcc(*'XVID')\n",
    "out = cv.VideoWriter('output.avi', fourcc, 20.0, (640,  480))\n",
    "while True:\n",
    "    _, frame = video_capture.read()\n",
    "#     frame = cv.flip(frame, 0)\n",
    "    gray=cv.cvtColor(frame, cv.COLOR_BGR2GRAY)\n",
    "    canvas= detect(gray, frame)\n",
    "    out.write(canvas)\n",
    "    cv.imshow(\"Video\", canvas)\n",
    "    \n",
    "    if( cv.waitKey(1) & 0xFF == ord('q')):\n",
    "        break\n",
    "out.release()\n",
    "video_capture.release()\n",
    "cv.destroyAllWindows()"
   ]
  }
 ],
 "metadata": {
  "kernelspec": {
   "display_name": "Python 3",
   "language": "python",
   "name": "python3"
  },
  "language_info": {
   "codemirror_mode": {
    "name": "ipython",
    "version": 3
   },
   "file_extension": ".py",
   "mimetype": "text/x-python",
   "name": "python",
   "nbconvert_exporter": "python",
   "pygments_lexer": "ipython3",
   "version": "3.7.4"
  }
 },
 "nbformat": 4,
 "nbformat_minor": 2
}
