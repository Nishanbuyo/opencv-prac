{
 "cells": [
  {
   "cell_type": "code",
   "execution_count": 1,
   "metadata": {},
   "outputs": [],
   "source": [
    "import cv2 as cv\n",
    "import numpy as np"
   ]
  },
  {
   "cell_type": "code",
   "execution_count": null,
   "metadata": {},
   "outputs": [],
   "source": [
    "car_classifier=cv.CascadeClassifier('haarcascades/haarcascade_car.xml')\n",
    "cap=cv.VideoCapture('videos/cars.avi')\n",
    "while cap.isOpened():\n",
    "    ret, frame = cap.read()\n",
    "    if ret == False:\n",
    "        continue\n",
    "    gray=cv.cvtColor(frame, cv.COLOR_BGR2GRAY)\n",
    "    cars=car_classifier.detectMultiScale(gray, 1.03,2)\n",
    "\n",
    "    for (x,y,w,h) in cars:\n",
    "        cv.rectangle(frame, (x,y), (x+w, y+h), (255,0,255), 2)\n",
    "        cv.imshow('Cars', frame)\n",
    "    if cv.waitKey(1) ==13:\n",
    "        break\n",
    "cap.release()\n",
    "cv.destroyAllWindows()\n"
   ]
  }
 ],
 "metadata": {
  "kernelspec": {
   "display_name": "Python 3",
   "language": "python",
   "name": "python3"
  },
  "language_info": {
   "codemirror_mode": {
    "name": "ipython",
    "version": 3
   },
   "file_extension": ".py",
   "mimetype": "text/x-python",
   "name": "python",
   "nbconvert_exporter": "python",
   "pygments_lexer": "ipython3",
   "version": "3.7.4"
  }
 },
 "nbformat": 4,
 "nbformat_minor": 2
}
